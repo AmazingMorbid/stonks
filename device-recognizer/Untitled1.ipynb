{
 "cells": [
  {
   "cell_type": "code",
   "execution_count": 1,
   "metadata": {},
   "outputs": [
    {
     "name": "stdout",
     "output_type": "stream",
     "text": [
      "all data len 544\n",
      "empty labels 50\n"
     ]
    }
   ],
   "source": [
    "import json\n",
    "\n",
    "from pprint import pprint\n",
    "\n",
    "dataset_in = \"dataset_clicked_2.jsonl\"\n",
    "dataset_out = \"dataset1.json\"\n",
    "train_data_out = \"train.json\"\n",
    "test_data_out = \"test.json\"\n",
    "how_many_clicked = 1000\n",
    "all_data = []\n",
    "train_data = []\n",
    "test_data = []\n",
    "\n",
    "without_labels_n = 1\n",
    "\n",
    "# def labels_size(doc):\n",
    "#     return len(doc[1][\"entities\"])\n",
    "\n",
    "n = 0\n",
    "def get_row_data(line):\n",
    "    global n\n",
    "    data = json.loads(line)\n",
    "\n",
    "    if len(data[\"text\"]) < 6:\n",
    "        return\n",
    "\n",
    "    if len(data[\"labels\"]) == 0 and n % 5 != 0:\n",
    "        return\n",
    "\n",
    "    n += 1\n",
    "    return (\n",
    "        data[\"text\"],\n",
    "        {\"entities\": data[\"labels\"]}\n",
    "    )\n",
    "\n",
    "with open(dataset_in, \"r\") as f:\n",
    "    lines = f.readlines()[:how_many_clicked]\n",
    "    \n",
    "    for line in lines:\n",
    "        if (data := get_row_data(line)) is not None:\n",
    "            all_data.append(data)\n",
    "\n",
    "train_data = all_data[:int(len(all_data)*0.8)]\n",
    "test_data = all_data[:int(len(all_data)*0.2)]\n",
    "\n",
    "print(\"all data len\", len(all_data))\n",
    "# print(\"train data len\", len(train_data))\n",
    "# print(\"test data len\", len(test_data))\n",
    "\n",
    "n = 0\n",
    "for e in all_data:\n",
    "    if len(e[1][\"entities\"]) == 0:\n",
    "        n += 1\n",
    "\n",
    "print(\"empty labels\", n)"
   ]
  },
  {
   "cell_type": "code",
   "execution_count": 1,
   "metadata": {},
   "outputs": [],
   "source": [
    "import spacy\n",
    "import random\n",
    "import json\n",
    "\n",
    "nlp = spacy.load(\"offers.model/\")\n"
   ]
  },
  {
   "cell_type": "code",
   "execution_count": null,
   "outputs": [],
   "source": [
    "nlp.remove_pipe(\"ner\")\n",
    "ner = nlp.create_pipe(\"ner\")\n",
    "nlp.add_pipe(ner)\n",
    "\n",
    "ner.add_label(\"Model urządzenia\")\n",
    "ner.add_label(\"RAM / VRAM\")\n",
    "ner.add_label(\"Pamięć\")\n",
    "ner.add_label(\"Przekątna ekranu\")\n",
    "ner.add_label(\"Kolor\")\n",
    "\n",
    "print(\"Training started\")\n",
    "nlp.begin_training()\n",
    "\n",
    "for itn in range(100):\n",
    "    random.shuffle(all_data)\n",
    "    losses = {}\n",
    "\n",
    "    for batch in spacy.util.minibatch(all_data, size=spacy.util.compounding(4.0, 32.0, 1.001)):\n",
    "        texts = [text for text, entities in batch]\n",
    "        annotations = [entities for text, entities in batch]# Update the model\n",
    "        nlp.update(texts, annotations, losses=losses, drop=0.3)\n",
    "    \n",
    "    print(losses)\n",
    "print(\"Training finished\")"
   ],
   "metadata": {
    "collapsed": false,
    "pycharm": {
     "name": "#%%\n"
    }
   }
  },
  {
   "cell_type": "code",
   "execution_count": null,
   "metadata": {},
   "outputs": [],
   "source": [
    "nlp.to_disk(\"offers.model\")\n",
    "print(\"Model saved.\")"
   ]
  },
  {
   "cell_type": "code",
   "execution_count": null,
   "metadata": {},
   "outputs": [],
   "source": [
    "# {\"text\": \"President Obama\", \"labels\": [ [10, 15, \"PERSON\"] ]}\n",
    "\n",
    "def get_labels(doc):   \n",
    "    labels = []\n",
    "    for ent in doc.ents:\n",
    "        labels.append([ent.start_char, ent.end_char, ent.label_])\n",
    "        \n",
    "    return labels"
   ]
  },
  {
   "cell_type": "code",
   "execution_count": null,
   "metadata": {},
   "outputs": [],
   "source": [
    "def create_dataset_row(doc):\n",
    "    return {\"text\": doc.text, \"labels\": get_labels(doc)}"
   ]
  },
  {
   "cell_type": "code",
   "execution_count": null,
   "metadata": {
    "pycharm": {
     "name": "#%%\n"
    }
   },
   "outputs": [],
   "source": [
    "# Create dataset\n",
    "# Generate descriptions\n",
    "import json\n",
    "\n",
    "offers_in = \"offers.jsonl\"\n",
    "offers_out = \"offers_dataset2.jsonl\"\n",
    "\n",
    "with open(offers_in) as f_in:\n",
    "    with open(offers_out, \"w\") as f_out:\n",
    "        for line in f_in.readlines()[10000:15000]:\n",
    "            data = json.loads(line)\n",
    "            doc = nlp(data['description'])\n",
    "            row = json.dumps(create_dataset_row(doc))\n",
    "\n",
    "            f_out.write(f\"{row}\\n\")"
   ]
  },
  {
   "cell_type": "code",
   "execution_count": null,
   "outputs": [],
   "source": [
    "import re\n",
    "\n",
    "from spacy.lang.pl import Polish\n",
    "from spacy.tokenizer import Tokenizer\n",
    "from spacy.util import compile_infix_regex\n",
    "\n",
    "infixes = [\"/\",] + nlp.Defaults.infixes\n",
    "nlp.tokenizer.infix_finditer = compile_infix_regex(infixes).finditer"
   ],
   "metadata": {
    "collapsed": false,
    "pycharm": {
     "name": "#%%\n"
    }
   }
  },
  {
   "cell_type": "code",
   "execution_count": null,
   "outputs": [],
   "source": [],
   "metadata": {
    "collapsed": false,
    "pycharm": {
     "name": "#%%\n"
    }
   }
  },
  {
   "cell_type": "code",
   "execution_count": 3,
   "outputs": [
    {
     "name": "stdout",
     "output_type": "stream",
     "text": [
      "Model urządzenia\n",
      "RAM / VRAM\n",
      "Pamięć\n"
     ]
    }
   ],
   "source": [
    "txt = \"Sprzedam Xiaomi Redmi Note 7 3/32 Gb w dobrym stanie zainteresowanych osób proszę o kontakt telefoniczny\"\n",
    "doc = nlp(txt)\n",
    "\n",
    "doc.ents"
   ],
   "metadata": {
    "collapsed": false,
    "pycharm": {
     "name": "#%%\n"
    }
   }
  },
  {
   "cell_type": "code",
   "execution_count": 3,
   "outputs": [
    {
     "data": {
      "text/plain": "<IPython.core.display.HTML object>",
      "text/html": "<span class=\"tex2jax_ignore\"><div class=\"entities\" style=\"line-height: 2.5; direction: ltr\">Sprzedam \n<mark class=\"entity\" style=\"background: #ddd; padding: 0.45em 0.6em; margin: 0 0.25em; line-height: 1; border-radius: 0.35em;\">\n    Xiaomi Redmi Note 7\n    <span style=\"font-size: 0.8em; font-weight: bold; line-height: 1; border-radius: 0.35em; text-transform: uppercase; vertical-align: middle; margin-left: 0.5rem\">Model urządzenia</span>\n</mark>\n \n<mark class=\"entity\" style=\"background: #ddd; padding: 0.45em 0.6em; margin: 0 0.25em; line-height: 1; border-radius: 0.35em;\">\n    3\n    <span style=\"font-size: 0.8em; font-weight: bold; line-height: 1; border-radius: 0.35em; text-transform: uppercase; vertical-align: middle; margin-left: 0.5rem\">RAM / VRAM</span>\n</mark>\n/\n<mark class=\"entity\" style=\"background: #ddd; padding: 0.45em 0.6em; margin: 0 0.25em; line-height: 1; border-radius: 0.35em;\">\n    32 Gb\n    <span style=\"font-size: 0.8em; font-weight: bold; line-height: 1; border-radius: 0.35em; text-transform: uppercase; vertical-align: middle; margin-left: 0.5rem\">Pamięć</span>\n</mark>\n w dobrym stanie zainteresowanych osób proszę o kontakt telefoniczny</div></span>"
     },
     "metadata": {},
     "output_type": "display_data"
    }
   ],
   "source": [
    "from spacy import displacy\n",
    "displacy.render(doc, style=\"ent\")"
   ],
   "metadata": {
    "collapsed": false,
    "pycharm": {
     "name": "#%%\n"
    }
   }
  }
 ],
 "metadata": {
  "kernelspec": {
   "display_name": "Python 3",
   "language": "python",
   "name": "python3"
  },
  "language_info": {
   "codemirror_mode": {
    "name": "ipython",
    "version": 3
   },
   "file_extension": ".py",
   "mimetype": "text/x-python",
   "name": "python",
   "nbconvert_exporter": "python",
   "pygments_lexer": "ipython3",
   "version": "3.8.5"
  }
 },
 "nbformat": 4,
 "nbformat_minor": 4
}