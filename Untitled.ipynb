{
 "cells": [
  {
   "cell_type": "code",
   "execution_count": 3,
   "id": "15a68790",
   "metadata": {},
   "outputs": [],
   "source": [
    "import os\n",
    "\n",
    "from allegro_sdk import Allegro\n",
    "from dotenv import load_dotenv\n",
    "\n",
    "load_dotenv()\n",
    "\n",
    "a = Allegro(os.getenv(\"ALLEGRO_CLIENT_ID\"),\n",
    "            os.getenv(\"ALLEGRO_CLIENT_SECRET\"))\n"
   ]
  },
  {
   "cell_type": "code",
   "execution_count": 18,
   "id": "3d27246b",
   "metadata": {},
   "outputs": [],
   "source": [
    "smartphones = a.sale.categories(165)"
   ]
  },
  {
   "cell_type": "code",
   "execution_count": null,
   "id": "bab9c866",
   "metadata": {},
   "outputs": [],
   "source": []
  },
  {
   "cell_type": "code",
   "execution_count": 19,
   "id": "365ec287",
   "metadata": {},
   "outputs": [
    {
     "name": "stdout",
     "output_type": "stream",
     "text": [
      "4937 Alcatel\n",
      "256071 Allview\n",
      "48978 Apple\n",
      "250568 Asus\n",
      "50971 BlackBerry\n",
      "257985 Blackview\n",
      "256971 Bluboo\n",
      "253022 Cat Phones\n",
      "258336 Cubot\n",
      "257177 Discovery\n",
      "253981 DooGee\n",
      "147419 Goclever\n",
      "261211 Google\n",
      "256448 Homtom\n",
      "253478 Honor\n",
      "16618 HTC\n",
      "125154 Huawei\n",
      "257176 Kiano\n",
      "147421 Kruger&Matz\n",
      "257646 Lenovo\n",
      "10539 LG\n",
      "257178 Manta\n",
      "257179 Maxcom\n",
      "253752 Meizu\n",
      "250942 Microsoft\n",
      "146538 Motorola\n",
      "70568 myPhone\n",
      "253401 Nexus\n",
      "4978 Nokia\n",
      "257781 OnePlus\n",
      "260585 Oppo\n",
      "317486 Oukitel\n",
      "148282 Overmax\n",
      "147420 Prestigio\n",
      "307093 Realme\n",
      "435 Samsung\n",
      "121183 Sony\n",
      "5044 Sony Ericsson\n",
      "255944 TP-Link\n",
      "257986 Ulefone\n",
      "256447 UMI\n",
      "317679 Vivo\n",
      "251585 Wiko\n",
      "249462 Xiaomi\n",
      "127376 ZTE\n",
      "170 Inne marki\n",
      "85889 Zestawy\n"
     ]
    }
   ],
   "source": [
    "for smartphone in smartphones:\n",
    "    print(smartphone.id, smartphone.name)"
   ]
  },
  {
   "cell_type": "code",
   "execution_count": 26,
   "id": "92a4bc6a",
   "metadata": {},
   "outputs": [
    {
     "name": "stdout",
     "output_type": "stream",
     "text": [
      "8845 Fotografia\n",
      "2 Komputery\n",
      "122233 Konsole i automaty\n",
      "10 RTV i AGD\n",
      "122332 Sprzęt estradowy, studyjny i DJ-ski\n",
      "4 Telefony i Akcesoria\n"
     ]
    }
   ],
   "source": []
  },
  {
   "cell_type": "code",
   "execution_count": 27,
   "id": "15c356b6",
   "metadata": {},
   "outputs": [],
   "source": [
    "def print_cat(cat):\n",
    "    print(cat.id, cat.name)"
   ]
  },
  {
   "cell_type": "code",
   "execution_count": 28,
   "id": "d7148d16",
   "metadata": {},
   "outputs": [],
   "source": [
    "def print_cats(cats):\n",
    "    for cat in cats:\n",
    "        print_cat(cat)"
   ]
  },
  {
   "cell_type": "code",
   "execution_count": 36,
   "id": "8532e12a",
   "metadata": {},
   "outputs": [
    {
     "name": "stdout",
     "output_type": "stream",
     "text": [
      "497 Akcesoria (Laptop, PC)\n",
      "77801 Części do laptopów\n",
      "4578 Drukarki i skanery\n",
      "4475 Dyski i pamięci przenośne\n",
      "259434 Głośniki\n",
      "15821 Internet\n",
      "486 Komputery stacjonarne\n",
      "259410 Kryptowaluty\n",
      "491 Laptopy\n",
      "4551 Listwy zasilające i UPS\n",
      "259422 Mikrofony i słuchawki\n",
      "254498 Mikrokomputery\n",
      "260017 Monitory komputerowe\n",
      "257260 Napędy optyczne i nośniki\n",
      "68 Oprogramowanie\n",
      "4226 Podzespoły komputerowe\n",
      "9060 Serwery i akcesoria\n",
      "77926 Stare komputery\n",
      "89253 Tablety\n",
      "4413 Urządzenia sieciowe\n",
      "260018 Urządzenia VR\n",
      "4564 Urządzenia wskazujące\n",
      "315899 Pozostałe\n"
     ]
    }
   ],
   "source": [
    "print_cats(a.sale.categories(2))"
   ]
  }
 ],
 "metadata": {
  "kernelspec": {
   "display_name": "Python 3",
   "language": "python",
   "name": "python3"
  },
  "language_info": {
   "codemirror_mode": {
    "name": "ipython",
    "version": 3
   },
   "file_extension": ".py",
   "mimetype": "text/x-python",
   "name": "python",
   "nbconvert_exporter": "python",
   "pygments_lexer": "ipython3",
   "version": "3.8.8"
  }
 },
 "nbformat": 4,
 "nbformat_minor": 5
}
